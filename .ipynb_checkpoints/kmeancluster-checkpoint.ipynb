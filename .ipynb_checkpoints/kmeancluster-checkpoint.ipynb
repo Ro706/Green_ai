{
 "cells": [
  {
   "cell_type": "markdown",
   "id": "5050dfe5-fd20-471c-ac02-6ad744042288",
   "metadata": {},
   "source": [
    "# K-Mean Cluster"
   ]
  },
  {
   "cell_type": "code",
   "execution_count": 1,
   "id": "fb3bf97f-8659-4252-bd59-293c93acfaa2",
   "metadata": {},
   "outputs": [],
   "source": [
    "import pandas as pd\n",
    "import numpy as np\n",
    "import matplotlib.pyplot as plt\n",
    "from sklearn.datasets import load_iris\n",
    "from sklearn.cluster import KMeans\n",
    "from sklearn.preprocessing import StandardScaler\n",
    "from sklearn.metrics import silhouette_score"
   ]
  },
  {
   "cell_type": "code",
   "execution_count": null,
   "id": "da476c52-03b2-4399-bc61-aa8cd84542b3",
   "metadata": {},
   "outputs": [],
   "source": [
    "# environmental factors.csv\n",
    "file_path = \"environmental factors.csv\"  \n",
    "data = pd.read_csv(file_path)\n",
    "print(\"Dataset Preview:\")\n",
    "print(data.head())"
   ]
  },
  {
   "cell_type": "code",
   "execution_count": 3,
   "id": "b9915ae2-acca-4094-ab61-14153e5ce51f",
   "metadata": {},
   "outputs": [
    {
     "name": "stdout",
     "output_type": "stream",
     "text": [
      "<class 'pandas.core.frame.DataFrame'>\n",
      "RangeIndex: 10000 entries, 0 to 9999\n",
      "Data columns (total 6 columns):\n",
      " #   Column            Non-Null Count  Dtype  \n",
      "---  ------            --------------  -----  \n",
      " 0   temperature       10000 non-null  float64\n",
      " 1   humidity          10000 non-null  float64\n",
      " 2   wind_speed        10000 non-null  float64\n",
      " 3   carbon_emissions  10000 non-null  float64\n",
      " 4   solar_irradiance  10000 non-null  float64\n",
      " 5   pollution_level   10000 non-null  float64\n",
      "dtypes: float64(6)\n",
      "memory usage: 468.9 KB\n"
     ]
    }
   ],
   "source": [
    "data.info()"
   ]
  },
  {
   "cell_type": "code",
   "execution_count": 4,
   "id": "41df7cbf-1d09-4de2-8461-348c23b07278",
   "metadata": {},
   "outputs": [
    {
     "data": {
      "text/html": [
       "<div>\n",
       "<style scoped>\n",
       "    .dataframe tbody tr th:only-of-type {\n",
       "        vertical-align: middle;\n",
       "    }\n",
       "\n",
       "    .dataframe tbody tr th {\n",
       "        vertical-align: top;\n",
       "    }\n",
       "\n",
       "    .dataframe thead th {\n",
       "        text-align: right;\n",
       "    }\n",
       "</style>\n",
       "<table border=\"1\" class=\"dataframe\">\n",
       "  <thead>\n",
       "    <tr style=\"text-align: right;\">\n",
       "      <th></th>\n",
       "      <th>temperature</th>\n",
       "      <th>humidity</th>\n",
       "      <th>wind_speed</th>\n",
       "      <th>carbon_emissions</th>\n",
       "      <th>solar_irradiance</th>\n",
       "      <th>pollution_level</th>\n",
       "    </tr>\n",
       "  </thead>\n",
       "  <tbody>\n",
       "    <tr>\n",
       "      <th>0</th>\n",
       "      <td>22.490802</td>\n",
       "      <td>52.418449</td>\n",
       "      <td>19.599966</td>\n",
       "      <td>337.165056</td>\n",
       "      <td>369.020837</td>\n",
       "      <td>84.723658</td>\n",
       "    </tr>\n",
       "    <tr>\n",
       "      <th>1</th>\n",
       "      <td>34.014286</td>\n",
       "      <td>49.974726</td>\n",
       "      <td>8.690240</td>\n",
       "      <td>256.681604</td>\n",
       "      <td>185.335998</td>\n",
       "      <td>49.451704</td>\n",
       "    </tr>\n",
       "    <tr>\n",
       "      <th>2</th>\n",
       "      <td>29.639879</td>\n",
       "      <td>40.569235</td>\n",
       "      <td>11.932794</td>\n",
       "      <td>484.024336</td>\n",
       "      <td>213.723302</td>\n",
       "      <td>19.546561</td>\n",
       "    </tr>\n",
       "    <tr>\n",
       "      <th>3</th>\n",
       "      <td>26.973170</td>\n",
       "      <td>66.436000</td>\n",
       "      <td>18.265613</td>\n",
       "      <td>148.540303</td>\n",
       "      <td>262.604015</td>\n",
       "      <td>73.664179</td>\n",
       "    </tr>\n",
       "    <tr>\n",
       "      <th>4</th>\n",
       "      <td>18.120373</td>\n",
       "      <td>58.597450</td>\n",
       "      <td>14.641787</td>\n",
       "      <td>314.535387</td>\n",
       "      <td>283.288001</td>\n",
       "      <td>41.867814</td>\n",
       "    </tr>\n",
       "  </tbody>\n",
       "</table>\n",
       "</div>"
      ],
      "text/plain": [
       "   temperature   humidity  wind_speed  carbon_emissions  solar_irradiance  \\\n",
       "0    22.490802  52.418449   19.599966        337.165056        369.020837   \n",
       "1    34.014286  49.974726    8.690240        256.681604        185.335998   \n",
       "2    29.639879  40.569235   11.932794        484.024336        213.723302   \n",
       "3    26.973170  66.436000   18.265613        148.540303        262.604015   \n",
       "4    18.120373  58.597450   14.641787        314.535387        283.288001   \n",
       "\n",
       "   pollution_level  \n",
       "0        84.723658  \n",
       "1        49.451704  \n",
       "2        19.546561  \n",
       "3        73.664179  \n",
       "4        41.867814  "
      ]
     },
     "execution_count": 4,
     "metadata": {},
     "output_type": "execute_result"
    }
   ],
   "source": [
    "data.head()"
   ]
  },
  {
   "cell_type": "code",
   "execution_count": 5,
   "id": "886880aa-e892-4d26-b6b6-0355c8abe0cb",
   "metadata": {},
   "outputs": [
    {
     "data": {
      "text/html": [
       "<div>\n",
       "<style scoped>\n",
       "    .dataframe tbody tr th:only-of-type {\n",
       "        vertical-align: middle;\n",
       "    }\n",
       "\n",
       "    .dataframe tbody tr th {\n",
       "        vertical-align: top;\n",
       "    }\n",
       "\n",
       "    .dataframe thead th {\n",
       "        text-align: right;\n",
       "    }\n",
       "</style>\n",
       "<table border=\"1\" class=\"dataframe\">\n",
       "  <thead>\n",
       "    <tr style=\"text-align: right;\">\n",
       "      <th></th>\n",
       "      <th>temperature</th>\n",
       "      <th>humidity</th>\n",
       "      <th>wind_speed</th>\n",
       "      <th>carbon_emissions</th>\n",
       "      <th>solar_irradiance</th>\n",
       "      <th>pollution_level</th>\n",
       "    </tr>\n",
       "  </thead>\n",
       "  <tbody>\n",
       "    <tr>\n",
       "      <th>9995</th>\n",
       "      <td>32.153120</td>\n",
       "      <td>82.622318</td>\n",
       "      <td>24.045509</td>\n",
       "      <td>389.315259</td>\n",
       "      <td>660.200681</td>\n",
       "      <td>96.614073</td>\n",
       "    </tr>\n",
       "    <tr>\n",
       "      <th>9996</th>\n",
       "      <td>32.950177</td>\n",
       "      <td>32.808837</td>\n",
       "      <td>19.956484</td>\n",
       "      <td>394.037121</td>\n",
       "      <td>303.574216</td>\n",
       "      <td>37.323996</td>\n",
       "    </tr>\n",
       "    <tr>\n",
       "      <th>9997</th>\n",
       "      <td>33.934158</td>\n",
       "      <td>48.221908</td>\n",
       "      <td>5.389117</td>\n",
       "      <td>171.306244</td>\n",
       "      <td>774.095576</td>\n",
       "      <td>30.467486</td>\n",
       "    </tr>\n",
       "    <tr>\n",
       "      <th>9998</th>\n",
       "      <td>22.949760</td>\n",
       "      <td>56.599200</td>\n",
       "      <td>13.020097</td>\n",
       "      <td>245.443897</td>\n",
       "      <td>568.909821</td>\n",
       "      <td>40.736253</td>\n",
       "    </tr>\n",
       "    <tr>\n",
       "      <th>9999</th>\n",
       "      <td>19.342808</td>\n",
       "      <td>40.335889</td>\n",
       "      <td>10.147960</td>\n",
       "      <td>269.340664</td>\n",
       "      <td>875.536039</td>\n",
       "      <td>52.283339</td>\n",
       "    </tr>\n",
       "  </tbody>\n",
       "</table>\n",
       "</div>"
      ],
      "text/plain": [
       "      temperature   humidity  wind_speed  carbon_emissions  solar_irradiance  \\\n",
       "9995    32.153120  82.622318   24.045509        389.315259        660.200681   \n",
       "9996    32.950177  32.808837   19.956484        394.037121        303.574216   \n",
       "9997    33.934158  48.221908    5.389117        171.306244        774.095576   \n",
       "9998    22.949760  56.599200   13.020097        245.443897        568.909821   \n",
       "9999    19.342808  40.335889   10.147960        269.340664        875.536039   \n",
       "\n",
       "      pollution_level  \n",
       "9995        96.614073  \n",
       "9996        37.323996  \n",
       "9997        30.467486  \n",
       "9998        40.736253  \n",
       "9999        52.283339  "
      ]
     },
     "execution_count": 5,
     "metadata": {},
     "output_type": "execute_result"
    }
   ],
   "source": [
    "data.tail()"
   ]
  },
  {
   "cell_type": "code",
   "execution_count": 8,
   "id": "62f12cfa-4dc2-43dc-985f-9b515a435c46",
   "metadata": {},
   "outputs": [
    {
     "name": "stdout",
     "output_type": "stream",
     "text": [
      "   temperature  humidity  wind_speed  carbon_emissions  solar_irradiance  \\\n",
      "0    -0.415900 -0.452465    0.801884          0.482494         -0.684316   \n",
      "1     1.587377 -0.593258   -1.100359         -0.136414         -1.389866   \n",
      "2     0.826917 -1.135149   -0.534981          1.611824         -1.280827   \n",
      "3     0.363328  0.355146    0.569224         -0.968007         -1.093072   \n",
      "4    -1.175669 -0.096466   -0.062635          0.308475         -1.013623   \n",
      "\n",
      "   pollution_level  \n",
      "0         1.193409  \n",
      "1        -0.029923  \n",
      "2        -1.067119  \n",
      "3         0.809835  \n",
      "4        -0.292954  \n"
     ]
    }
   ],
   "source": [
    "Scaler=StandardScaler()\n",
    "data_scaled=Scaler.fit_transform(data)\n",
    "print(pd.DataFrame(data_scaled,columns=data.columns).head())"
   ]
  },
  {
   "cell_type": "code",
   "execution_count": null,
   "id": "e778bd35-389d-44ea-9056-66b780be0943",
   "metadata": {},
   "outputs": [],
   "source": []
  },
  {
   "cell_type": "code",
   "execution_count": 26,
   "id": "116faa60-a5cf-4cf1-8a71-42cbf27bd2cd",
   "metadata": {},
   "outputs": [
    {
     "data": {
      "image/png": "[encoded data removed]",
      "text/plain": [
       "<Figure size 640x480 with 1 Axes>"
      ]
     },
     "metadata": {},
     "output_type": "display_data"
    }
   ],
   "source": [
    "inertia = []\n",
    "k_range = range(1, 11)\n",
    "for k in k_range:\n",
    "    kmeans = KMeans(n_clusters=k,n_init=10, random_state=42)\n",
    "    kmeans.fit(data_scaled)\n",
    "    inertia.append(kmeans.inertia_)\n",
    "\n",
    "plt.plot(k_range, inertia, marker='o' ,linestyle='--')  # Corrected marker style\n",
    "plt.title('Elbow Method')\n",
    "plt.xlabel('Number of Clusters (k)')\n",
    "plt.ylabel('Inertia')\n",
    "plt.grid(True,color='black', linestyle='-', linewidth=0.5)\n",
    "plt.show()"
   ]
  },
  {
   "cell_type": "code",
   "execution_count": 17,
   "id": "3e466824-296e-4425-bde4-febc0e960ef1",
   "metadata": {},
   "outputs": [
    {
     "data": {
      "text/plain": [
       "0"
      ]
     },
     "execution_count": 17,
     "metadata": {},
     "output_type": "execute_result"
    }
   ],
   "source": [
    "data.isnull().sum().sum()"
   ]
  },
  {
   "cell_type": "code",
   "execution_count": null,
   "id": "5abee0b5-6ff1-4383-939f-a84d89bfc0cc",
   "metadata": {},
   "outputs": [],
   "source": []
  }
 ],
 "metadata": {
  "kernelspec": {
   "display_name": "Python 3 (ipykernel)",
   "language": "python",
   "name": "python3"
  },
  "language_info": {
   "codemirror_mode": {
    "name": "ipython",
    "version": 3
   },
   "file_extension": ".py",
   "mimetype": "text/x-python",
   "name": "python",
   "nbconvert_exporter": "python",
   "pygments_lexer": "ipython3",
   "version": "3.12.8"
  }
 },
 "nbformat": 4,
 "nbformat_minor": 5
}
